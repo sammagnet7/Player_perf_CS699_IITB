{
 "cells": [
  {
   "cell_type": "code",
   "execution_count": 45,
   "metadata": {},
   "outputs": [],
   "source": [
    "import pandas as pd\n",
    "import ssl \n",
    "import numpy as np\n",
    "import os\n",
    "from pathlib import Path\n",
    "\n",
    "ssl._create_default_https_context = ssl._create_unverified_context\n"
   ]
  },
  {
   "cell_type": "markdown",
   "metadata": {},
   "source": [
    "Table: 'career_avg_bowler'"
   ]
  },
  {
   "cell_type": "code",
   "execution_count": 46,
   "metadata": {},
   "outputs": [],
   "source": [
    "def career_avg_bowler(p_id):\n",
    "    career_avg_bowler = pd.read_html(\"https://stats.espncricinfo.com/ci/engine/player/\"+p_id+\".html?class=2;template=results;type=bowling\")[2]\n",
    "    career_avg_bowler=career_avg_bowler[[\"Span\",\"Inns\",\"Overs\",\"Mdns\",\"Runs\",\"Wkts\",\"Ave\",\"Econ\",\"SR\"]]\n",
    "    career_avg_bowler.insert(0, \"P_id\", [p_id], True)\n",
    "\n",
    "\n",
    "    dismissal = pd.read_html(\"https://stats.espncricinfo.com/ci/engine/player/\"+p_id+\".html?class=2;template=results;type=bowling;view=dismissal_summary\")[-4]\n",
    "\n",
    "    dismissal_types=[\"caught\", \"bowled\", \"leg before wicket\"]\n",
    "\n",
    "    #avail_types=[]\n",
    "    #non_avail_types=[]\n",
    "\n",
    "    dismissal.set_index(\"Grouping\", inplace = True)\n",
    "\n",
    "    #for index, row in dismissal.iterrows():\n",
    "    #    if index in types:\n",
    "    #        avail_types.append(index)\n",
    "\n",
    "    #non_avail_types = np.setdiff1d(types, avail_types)\n",
    "\n",
    "    dismissal=dismissal.loc[dismissal_types,[\"Dis\"]]\n",
    "    dismissal_dict = dismissal.to_dict()\n",
    "    dismissal = pd.DataFrame.from_dict(dismissal_dict.values())\n",
    "\n",
    "    career_avg_bowler = pd.concat([career_avg_bowler, dismissal], axis=1)\n",
    "\n",
    "    #Career_Averages_bowling[non_avail_types] = [None] \n",
    "\n",
    "    filepath = Path('Csv/Career_avg_bowler_.csv')\n",
    "    hdr = False  if os.path.isfile(filepath) else True\n",
    "    career_avg_bowler.to_csv(filepath, mode='a', index=False, header=hdr)  \n",
    "    career_avg_bowler\n"
   ]
  },
  {
   "cell_type": "markdown",
   "metadata": {},
   "source": [
    "Table: 'vs_country_bowler'"
   ]
  },
  {
   "cell_type": "code",
   "execution_count": 47,
   "metadata": {},
   "outputs": [],
   "source": [
    "def vs_country_bowler(p_id):\n",
    "    vs_country_bowler = pd.read_html(\"https://stats.espncricinfo.com/ci/engine/player/\"+p_id+\".html?class=2;template=results;type=bowling\")[3]\n",
    "    vs_country_bowler=vs_country_bowler[['Grouping','Inns', 'Overs','Mdns','Runs','Wkts','Ave','Econ','SR']]\n",
    "\n",
    "    vs_country_bowler.rename(columns = {'Grouping':'Country'}, inplace = True)\n",
    "    vs_country_bowler.insert(0, \"P_id\", p_id, True)\n",
    "\n",
    "    countries=['v Pakistan', 'v Australia', 'v England', 'v New Zealand', 'v West Indies', 'v Sri Lanka', 'v Bangladesh', 'v South Africa']\n",
    "\n",
    "    vs_country_bowler = vs_country_bowler.loc[ vs_country_bowler['Country'].isin(countries)  ] \n",
    "\n",
    "\n",
    "\n",
    "    filepath = Path('Csv/Vs_country_bowler.csv')\n",
    "    hdr = False  if os.path.isfile(filepath) else True\n",
    "    vs_country_bowler.to_csv(filepath, mode='a', index=False, header=hdr)  \n",
    "    vs_country_bowler"
   ]
  },
  {
   "cell_type": "markdown",
   "metadata": {},
   "source": [
    "Table: 'home_vs_away_bowler'"
   ]
  },
  {
   "cell_type": "code",
   "execution_count": 48,
   "metadata": {},
   "outputs": [],
   "source": [
    "def home_vs_away_bowler(p_id):\n",
    "    home_vs_away_bowler = pd.read_html(\"https://stats.espncricinfo.com/ci/engine/player/\"+p_id+\".html?class=2;template=results;type=bowling\")[3]\n",
    "    home_vs_away_bowler=home_vs_away_bowler[['Grouping','Inns', 'Overs','Mdns','Runs','Wkts','Ave','Econ','SR']]\n",
    "\n",
    "    home_vs_away_bowler.rename(columns = {'Grouping':'Venue'}, inplace = True)\n",
    "    home_vs_away_bowler.insert(0, \"P_id\", p_id, True)\n",
    "\n",
    "    venues=['home', 'away', 'neutral']\n",
    "\n",
    "    home_vs_away_bowler = home_vs_away_bowler.loc[ home_vs_away_bowler['Venue'].isin(venues)  ] \n",
    "\n",
    "\n",
    "\n",
    "    filepath = Path('Csv/Home_vs_away_bowler.csv')\n",
    "    hdr = False  if os.path.isfile(filepath) else True\n",
    "    home_vs_away_bowler.to_csv(filepath, mode='a', index=False, header=hdr)  \n",
    "    home_vs_away_bowler"
   ]
  },
  {
   "cell_type": "markdown",
   "metadata": {},
   "source": [
    "Table: 'yearly_stats_bowler'"
   ]
  },
  {
   "cell_type": "code",
   "execution_count": 49,
   "metadata": {},
   "outputs": [],
   "source": [
    "def yearly_stats_bowler(p_id):\n",
    "    yearly_stats_bowler = pd.read_html(\"https://stats.espncricinfo.com/ci/engine/player/\"+p_id+\".html?class=2;template=results;type=bowling\")[3]\n",
    "    yearly_stats_bowler=yearly_stats_bowler[['Grouping','Inns', 'Overs','Mdns','Runs','Wkts','Ave','Econ','SR']]\n",
    "\n",
    "    yearly_stats_bowler.rename(columns = {'Grouping':'Year'}, inplace = True)\n",
    "    yearly_stats_bowler.insert(0, \"P_id\", p_id, True)\n",
    "\n",
    "    years=['home', 'away', 'neutral']\n",
    "\n",
    "    yearly_stats_bowler = yearly_stats_bowler.loc[ yearly_stats_bowler['Year'].str.startswith('year ', na=False)  ] \n",
    "\n",
    "\n",
    "\n",
    "    filepath = Path('Csv/Yearly_stats_bowler.csv')\n",
    "    hdr = False  if os.path.isfile(filepath) else True\n",
    "    yearly_stats_bowler.to_csv(filepath, mode='a', index=False, header=hdr)  \n",
    "    yearly_stats_bowler"
   ]
  },
  {
   "cell_type": "markdown",
   "metadata": {},
   "source": [
    "#Main function below:"
   ]
  },
  {
   "cell_type": "code",
   "execution_count": 50,
   "metadata": {},
   "outputs": [],
   "source": [
    "#625383: Jasprit Jasbirsingh Bumrah (BOW)\n",
    "#481896: Mohammed Shami Ahmed (BOW)\n",
    "#26421: Ravichandran Ashwin (BOW)\n",
    "#234675: Ravindrasinh Anirudhsinh Jadeja (ALL)\n",
    "#625371: Hardik Himanshu Pandya (ALL)\n",
    "\n",
    "player_ids=['625383', '481896', '26421', '234675', '625371']\n",
    "\n",
    "os.system(\"rm -f Csv/*_bowler.csv\")\n",
    "\n",
    "for pid in player_ids:\n",
    "    career_avg_bowler(pid)\n",
    "    vs_country_bowler(pid)\n",
    "    home_vs_away_bowler(pid)\n",
    "    yearly_stats_bowler(pid)\n",
    "    time.sleep(1)\n"
   ]
  }
 ],
 "metadata": {
  "anaconda-cloud": {},
  "kernelspec": {
   "display_name": "Python 3",
   "language": "python",
   "name": "python3"
  },
  "language_info": {
   "codemirror_mode": {
    "name": "ipython",
    "version": 3
   },
   "file_extension": ".py",
   "mimetype": "text/x-python",
   "name": "python",
   "nbconvert_exporter": "python",
   "pygments_lexer": "ipython3",
   "version": "3.11.4"
  }
 },
 "nbformat": 4,
 "nbformat_minor": 1
}
