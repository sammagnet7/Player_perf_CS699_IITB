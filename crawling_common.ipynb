{
 "cells": [
  {
   "cell_type": "code",
   "execution_count": 4,
   "metadata": {},
   "outputs": [],
   "source": [
    "import pandas as pd\n",
    "import ssl \n",
    "import numpy as np\n",
    "import os\n",
    "import requests\n",
    "import logging\n",
    "from bs4 import BeautifulSoup\n",
    "from pathlib import Path\n",
    "import time\n",
    "\n",
    "ssl._create_default_https_context = ssl._create_unverified_context\n"
   ]
  },
  {
   "cell_type": "markdown",
   "metadata": {},
   "source": [
    "Table: 'player_overview'"
   ]
  },
  {
   "cell_type": "code",
   "execution_count": 5,
   "metadata": {},
   "outputs": [],
   "source": [
    "def player_overview(p_id):\n",
    "    # URL of the website to scrape\n",
    "    url = \"https://www.espncricinfo.com/cricketers/x-\"+p_id\n",
    "\n",
    "    # Send an HTTP GET request to the website\n",
    "    response = requests.get(url)\n",
    "\n",
    "    # Parse the HTML code using BeautifulSoup\n",
    "    soup = BeautifulSoup(response.content, 'html.parser')\n",
    "\n",
    "    # Extract the relevant information from the HTML code\n",
    "    class_grid='ds-grid lg:ds-grid-cols-3 ds-grid-cols-2 ds-gap-4 ds-mb-8'\n",
    "    div_p = soup.find('div', {'class': class_grid})\n",
    "    \n",
    "    my_dict = {}\n",
    "\n",
    "    class_para = 'ds-text-tight-m ds-font-regular ds-uppercase ds-text-typo-mid3'\n",
    "    for div in div_p.find_all('div'):\n",
    "        if ( div.find('p', {'class':class_para}) ) is None:\n",
    "            continue\n",
    "\n",
    "        key = div.find('p', {'class':class_para}).text\n",
    "        value = div.find('span').text\n",
    "        my_dict[key] = value\n",
    "\n",
    "    #Adds players' roll ids: (ALL for All rounder), (BAT for Batsman), (BOW for Bowler)\n",
    "    if 'All' in my_dict.get('Playing Role'):\n",
    "        my_dict['Roll_id'] = 'ALL'\n",
    "    elif 'Bowl' in my_dict.get('Playing Role'):\n",
    "        my_dict['Roll_id'] = 'BOW'\n",
    "    elif 'Bat' in my_dict.get('Playing Role'):\n",
    "        my_dict['Roll_id'] = 'BAT'\n",
    "    else:\n",
    "        log.error('No matching playing role is found')\n",
    "\n",
    "    player_overview = pd.DataFrame.from_dict([my_dict])\n",
    "    player_overview.insert(0, \"P_id\", p_id, True)\n",
    "\n",
    "    filepath = Path('Csv/player_overview.csv')\n",
    "    hdr = False  if os.path.isfile(filepath) else True\n",
    "    player_overview.to_csv(filepath, mode='a', index=False, header=hdr)\n",
    "\n",
    "    player_overview"
   ]
  },
  {
   "cell_type": "markdown",
   "metadata": {},
   "source": [
    "Table: 'player_pic'"
   ]
  },
  {
   "cell_type": "markdown",
   "metadata": {},
   "source": [
    "#Main function below:"
   ]
  },
  {
   "cell_type": "code",
   "execution_count": 6,
   "metadata": {},
   "outputs": [],
   "source": [
    "#253802: Virat Kohli (BAT)\n",
    "#34102: Rohit Gurunath Sharma (BAT)\n",
    "#422108: Kannaur Lokesh Rahul (BAT)\n",
    "#625383: Jasprit Jasbirsingh Bumrah (BOW)\n",
    "#481896: Mohammed Shami Ahmed (BOW)\n",
    "#26421: Ravichandran Ashwin (BOW)\n",
    "#234675: Ravindrasinh Anirudhsinh Jadeja (ALL)\n",
    "#625371: Hardik Himanshu Pandya (ALL)\n",
    "\n",
    "player_ids=['253802', '34102', '422108', '625383', '481896', '26421', '234675', '625371']\n",
    "\n",
    "os.system(\"rm -f Csv/player_overview.csv\")\n",
    "\n",
    "for pid in player_ids:\n",
    "    player_overview(pid)\n",
    "    time.sleep(1)\n"
   ]
  }
 ],
 "metadata": {
  "anaconda-cloud": {},
  "kernelspec": {
   "display_name": "Python 3",
   "language": "python",
   "name": "python3"
  },
  "language_info": {
   "codemirror_mode": {
    "name": "ipython",
    "version": 3
   },
   "file_extension": ".py",
   "mimetype": "text/x-python",
   "name": "python",
   "nbconvert_exporter": "python",
   "pygments_lexer": "ipython3",
   "version": "3.11.4"
  }
 },
 "nbformat": 4,
 "nbformat_minor": 1
}
