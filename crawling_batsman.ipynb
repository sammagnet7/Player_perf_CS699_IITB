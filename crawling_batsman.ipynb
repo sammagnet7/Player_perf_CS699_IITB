{
 "cells": [
  {
   "cell_type": "code",
   "execution_count": 157,
   "metadata": {},
   "outputs": [],
   "source": [
    "import pandas as pd\n",
    "import ssl \n",
    "import numpy as np\n",
    "import os\n",
    "from pathlib import Path\n",
    "\n",
    "ssl._create_default_https_context = ssl._create_unverified_context\n",
    "#p_id='253802'"
   ]
  },
  {
   "cell_type": "markdown",
   "metadata": {},
   "source": [
    "Table: 'career_avg_batsman'"
   ]
  },
  {
   "cell_type": "code",
   "execution_count": 158,
   "metadata": {},
   "outputs": [],
   "source": [
    "def career_avg_batsman(p_id):\n",
    "    career_avg_batsman = pd.read_html(\"https://stats.espncricinfo.com/ci/engine/player/\"+p_id+\".html?class=2;template=results;type=batting\")[2]\n",
    "    career_avg_batsman=career_avg_batsman[[\"Span\",\"Inns\",\"Runs\",\"HS\",\"Ave\",\"SR\",\"100\",\"50\",\"0\",\"4s\",\"6s\"]]\n",
    "\n",
    "    career_avg_batsman.insert(0, \"P_id\", [p_id], True)\n",
    "\n",
    "    filepath = Path('Csv/Career_avg_batsman.csv')\n",
    "    hdr = False  if os.path.isfile(filepath) else True\n",
    "    career_avg_batsman.to_csv(filepath,  mode='a', index=False, header=hdr)  \n",
    "    career_avg_batsman\n"
   ]
  },
  {
   "cell_type": "markdown",
   "metadata": {},
   "source": [
    "Table: 'vs_country_batsman'"
   ]
  },
  {
   "cell_type": "code",
   "execution_count": 159,
   "metadata": {},
   "outputs": [],
   "source": [
    "def vs_country_batsman(p_id):\n",
    "    vs_country_batsman = pd.read_html(\"https://stats.espncricinfo.com/ci/engine/player/\"+p_id+\".html?class=2;template=results;type=batting\")[3]\n",
    "    vs_country_batsman=vs_country_batsman[[\"Grouping\",\"Inns\",\"Runs\",\"HS\",\"Ave\",\"SR\"]]\n",
    "\n",
    "    vs_country_batsman.rename(columns = {'Grouping':'Country'}, inplace = True)\n",
    "    vs_country_batsman.insert(0, \"P_id\", p_id, True)\n",
    "\n",
    "    countries=['v Pakistan', 'v Australia', 'v England', 'v New Zealand', 'v West Indies', 'v Sri Lanka', 'v Bangladesh', 'v South Africa']\n",
    "\n",
    "    select_vs_country_batsman = vs_country_batsman.loc[ vs_country_batsman['Country'].isin(countries)  ] \n",
    "\n",
    "    filepath = Path('Csv/Vs_country_batsman.csv')\n",
    "    hdr = False  if os.path.isfile(filepath) else True\n",
    "    select_vs_country_batsman.to_csv(filepath, mode='a', index=False, header=hdr)  \n",
    "    select_vs_country_batsman"
   ]
  },
  {
   "cell_type": "markdown",
   "metadata": {},
   "source": [
    "Table: 'home_vs_away_batsman'"
   ]
  },
  {
   "cell_type": "code",
   "execution_count": 160,
   "metadata": {},
   "outputs": [],
   "source": [
    "def home_vs_away_batsman(p_id):\n",
    "    home_vs_away_batsman = pd.read_html(\"https://stats.espncricinfo.com/ci/engine/player/\"+p_id+\".html?class=2;template=results;type=batting\")[3]\n",
    "    home_vs_away_batsman=home_vs_away_batsman[[\"Grouping\",\"Inns\",\"Runs\",\"HS\",\"Ave\",\"SR\"]]\n",
    "\n",
    "    home_vs_away_batsman.rename(columns = {'Grouping':'Venue'}, inplace = True)\n",
    "    home_vs_away_batsman.insert(0, \"P_id\", p_id, True)\n",
    "\n",
    "    venues=['home', 'away', 'neutral']\n",
    "\n",
    "    select_home_vs_away_batsman = home_vs_away_batsman.loc[ home_vs_away_batsman['Venue'].isin(venues)  ] \n",
    "\n",
    "    filepath = Path('Csv/Home_vs_away_batsman.csv')\n",
    "    hdr = False  if os.path.isfile(filepath) else True\n",
    "    select_home_vs_away_batsman.to_csv(filepath, mode='a', index=False, header=hdr)  \n",
    "    select_home_vs_away_batsman"
   ]
  },
  {
   "cell_type": "markdown",
   "metadata": {},
   "source": [
    "Table: 'yearly_stats_batsman'"
   ]
  },
  {
   "cell_type": "code",
   "execution_count": 161,
   "metadata": {},
   "outputs": [],
   "source": [
    "def yearly_stats_batsman(p_id):\n",
    "    yearly_stats_batsman = pd.read_html(\"https://stats.espncricinfo.com/ci/engine/player/\"+p_id+\".html?class=2;template=results;type=batting\")[3]\n",
    "    yearly_stats_batsman=yearly_stats_batsman[[\"Grouping\",\"Inns\",\"Runs\",\"HS\",\"Ave\",\"SR\"]]\n",
    "\n",
    "    yearly_stats_batsman.rename(columns = {'Grouping':'Year'}, inplace = True)\n",
    "    yearly_stats_batsman.insert(0, \"P_id\", p_id, True)\n",
    "\n",
    "    years=['home', 'away', 'neutral']\n",
    "\n",
    "    select_yearly_stats_batsman = yearly_stats_batsman.loc[ yearly_stats_batsman['Year'].str.startswith('year ', na=False)  ] \n",
    "\n",
    "    filepath = Path('Csv/Yearly_stats_batsman.csv')\n",
    "    hdr = False  if os.path.isfile(filepath) else True\n",
    "    select_yearly_stats_batsman.to_csv(filepath, mode='a', index=False, header=hdr)  \n",
    "    select_yearly_stats_batsman"
   ]
  },
  {
   "cell_type": "markdown",
   "metadata": {},
   "source": [
    "#Main function below:"
   ]
  },
  {
   "cell_type": "code",
   "execution_count": 162,
   "metadata": {},
   "outputs": [],
   "source": [
    "#253802: Virat Kohli (BAT)\n",
    "#34102: Rohit Gurunath Sharma (BAT)\n",
    "#422108: Kannaur Lokesh Rahul (BAT)\n",
    "#234675: Ravindrasinh Anirudhsinh Jadeja (ALL)\n",
    "#625371: Hardik Himanshu Pandya (ALL)\n",
    "\n",
    "player_ids=['253802', '34102', '422108', '234675', '625371']\n",
    "\n",
    "os.system(\"rm -f Csv/*_batsman.csv\")\n",
    "\n",
    "for pid in player_ids:\n",
    "    career_avg_batsman(pid)\n",
    "    vs_country_batsman(pid)\n",
    "    home_vs_away_batsman(pid)\n",
    "    yearly_stats_batsman(pid)\n",
    "    "
   ]
  }
 ],
 "metadata": {
  "anaconda-cloud": {},
  "kernelspec": {
   "display_name": "Python 3",
   "language": "python",
   "name": "python3"
  },
  "language_info": {
   "codemirror_mode": {
    "name": "ipython",
    "version": 3
   },
   "file_extension": ".py",
   "mimetype": "text/x-python",
   "name": "python",
   "nbconvert_exporter": "python",
   "pygments_lexer": "ipython3",
   "version": "3.11.4"
  }
 },
 "nbformat": 4,
 "nbformat_minor": 1
}
