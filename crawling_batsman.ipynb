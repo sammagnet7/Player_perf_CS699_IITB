{
 "cells": [
  {
   "cell_type": "code",
   "execution_count": 39,
   "metadata": {},
   "outputs": [],
   "source": [
    "import pandas as pd\n",
    "import ssl \n",
    "import os\n",
    "import logging\n",
    "from pathlib import Path\n",
    "import time\n",
    "\n",
    "\n",
    "ssl._create_default_https_context = ssl._create_unverified_context\n"
   ]
  },
  {
   "cell_type": "markdown",
   "metadata": {},
   "source": [
    "Table: 'career_avg_batsman'"
   ]
  },
  {
   "cell_type": "code",
   "execution_count": 40,
   "metadata": {},
   "outputs": [],
   "source": [
    "def career_avg_batsman(player_ids):\n",
    "\n",
    "    career_avg_batsman_merged = pd.DataFrame()\n",
    "\n",
    "    for p_id in player_ids:\n",
    "        career_avg_batsman = pd.read_html(\"https://stats.espncricinfo.com/ci/engine/player/\"+p_id+\".html?class=2;template=results;type=batting\")[2]\n",
    "        career_avg_batsman=career_avg_batsman[[\"Span\",\"Inns\",\"Runs\",\"HS\",\"Ave\",\"SR\",\"100\",\"50\",\"0\",\"4s\",\"6s\"]]\n",
    "\n",
    "        career_avg_batsman.insert(0, \"P_id\", [p_id], True)\n",
    "        career_avg_batsman_merged = pd.concat([career_avg_batsman_merged, career_avg_batsman], ignore_index=True)\n",
    "        time.sleep(0.1)\n",
    "\n",
    "    filepath = Path('Csv/Career_avg_batsman.csv')\n",
    "    career_avg_batsman_merged.to_csv(filepath, index_label=\"row_id\")  \n",
    "    print(career_avg_batsman_merged)\n"
   ]
  },
  {
   "cell_type": "markdown",
   "metadata": {},
   "source": [
    "Table: 'vs_country_batsman'"
   ]
  },
  {
   "cell_type": "code",
   "execution_count": 41,
   "metadata": {},
   "outputs": [],
   "source": [
    "def vs_country_batsman(player_ids):\n",
    "\n",
    "    vs_country_batsman_merged = pd.DataFrame()\n",
    "\n",
    "    for p_id in player_ids:\n",
    "\n",
    "        vs_country_batsman = pd.read_html(\"https://stats.espncricinfo.com/ci/engine/player/\"+p_id+\".html?class=2;template=results;type=batting\")[3]\n",
    "        vs_country_batsman=vs_country_batsman[[\"Grouping\",\"Inns\",\"Runs\",\"HS\",\"Ave\",\"SR\"]]\n",
    "\n",
    "        vs_country_batsman.rename(columns = {'Grouping':'Country'}, inplace = True)\n",
    "        vs_country_batsman.insert(0, \"P_id\", p_id, True)\n",
    "\n",
    "        countries=['v Pakistan', 'v Australia', 'v England', 'v New Zealand', 'v West Indies', 'v Sri Lanka', 'v Bangladesh', 'v South Africa']\n",
    "\n",
    "        select_vs_country_batsman = vs_country_batsman.loc[ vs_country_batsman['Country'].isin(countries)  ] \n",
    "\n",
    "        vs_country_batsman_merged = pd.concat([vs_country_batsman_merged, select_vs_country_batsman], ignore_index=True)\n",
    "        time.sleep(0.1)\n",
    "\n",
    "    filepath = Path('Csv/Vs_country_batsman.csv')\n",
    "    vs_country_batsman_merged.to_csv(filepath, index_label=\"row_id\")  \n",
    "    print(vs_country_batsman_merged)"
   ]
  },
  {
   "cell_type": "markdown",
   "metadata": {},
   "source": [
    "Table: 'home_vs_away_batsman'"
   ]
  },
  {
   "cell_type": "code",
   "execution_count": 42,
   "metadata": {},
   "outputs": [],
   "source": [
    "def home_vs_away_batsman(player_ids):\n",
    "\n",
    "    home_vs_away_batsman_merged = pd.DataFrame()\n",
    "\n",
    "    for p_id in player_ids:\n",
    "        home_vs_away_batsman = pd.read_html(\"https://stats.espncricinfo.com/ci/engine/player/\"+p_id+\".html?class=2;template=results;type=batting\")[3]\n",
    "        home_vs_away_batsman=home_vs_away_batsman[[\"Grouping\",\"Inns\",\"Runs\",\"HS\",\"Ave\",\"SR\"]]\n",
    "\n",
    "        home_vs_away_batsman.rename(columns = {'Grouping':'Venue'}, inplace = True)\n",
    "        home_vs_away_batsman.insert(0, \"P_id\", p_id, True)\n",
    "\n",
    "        venues=['home', 'away', 'neutral']\n",
    "\n",
    "        select_home_vs_away_batsman = home_vs_away_batsman.loc[ home_vs_away_batsman['Venue'].isin(venues)  ] \n",
    "\n",
    "        home_vs_away_batsman_merged = pd.concat([home_vs_away_batsman_merged, select_home_vs_away_batsman], ignore_index=True)\n",
    "        time.sleep(0.1)\n",
    "\n",
    "    filepath = Path('Csv/Home_vs_away_batsman.csv')\n",
    "    home_vs_away_batsman_merged.to_csv(filepath, index_label=\"row_id\")  \n",
    "    print(home_vs_away_batsman_merged)"
   ]
  },
  {
   "cell_type": "markdown",
   "metadata": {},
   "source": [
    "Table: 'yearly_stats_batsman'"
   ]
  },
  {
   "cell_type": "code",
   "execution_count": 43,
   "metadata": {},
   "outputs": [],
   "source": [
    "def yearly_stats_batsman(player_ids):\n",
    "\n",
    "    yearly_stats_batsman_merged = pd.DataFrame()\n",
    "\n",
    "    for p_id in player_ids:\n",
    "        yearly_stats_batsman = pd.read_html(\"https://stats.espncricinfo.com/ci/engine/player/\"+p_id+\".html?class=2;template=results;type=batting\")[3]\n",
    "        yearly_stats_batsman=yearly_stats_batsman[[\"Grouping\",\"Inns\",\"Runs\",\"HS\",\"Ave\",\"SR\"]]\n",
    "\n",
    "        yearly_stats_batsman.rename(columns = {'Grouping':'Year'}, inplace = True)\n",
    "        yearly_stats_batsman.insert(0, \"P_id\", p_id, True)\n",
    "\n",
    "        select_yearly_stats_batsman = yearly_stats_batsman.loc[ yearly_stats_batsman['Year'].str.startswith('year ', na=False)  ] \n",
    "        yearly_stats_batsman_merged = pd.concat([yearly_stats_batsman_merged, select_yearly_stats_batsman], ignore_index=True)\n",
    "        time.sleep(0.1)\n",
    "\n",
    "    filepath = Path('Csv/Yearly_stats_batsman.csv')\n",
    "    yearly_stats_batsman_merged.to_csv(filepath, index_label=\"row_id\")  \n",
    "    print(yearly_stats_batsman_merged)"
   ]
  },
  {
   "cell_type": "markdown",
   "metadata": {},
   "source": [
    "#Main function below:"
   ]
  },
  {
   "cell_type": "code",
   "execution_count": 44,
   "metadata": {},
   "outputs": [
    {
     "name": "stdout",
     "output_type": "stream",
     "text": [
      "     P_id       Span  Inns   Runs    HS    Ave      SR  100  50   0    4s   6s\n",
      "0  253802  2008-2023   275  13437   183  57.91   93.63   48  69  16  1255  148\n",
      "1   34102  2007-2023   249  10510   264  49.34   91.35   31  54  16   971  312\n",
      "2  422108  2016-2023    63   2507   112  50.14   86.89    6  16   2   196   55\n",
      "3   28235  2010-2022   164   6793   143  44.11   91.35   17  39   5   842   79\n",
      "4   28081  2004-2019   297  10773  183*  50.57   87.56   10  73  10   826  229\n",
      "5  234675  2009-2023   129   2683    87  32.32   84.39    0  13   6   195   52\n",
      "6  625371  2016-2023    61   1769   92*  34.01  110.35    0  11   4   132   67\n",
      "7   26421  2010-2023    63    707    65  16.44   86.96    0   1   6    60    7\n",
      "      P_id         Country Inns  Runs    HS    Ave      SR\n",
      "0   253802     v Australia   46  2313   123  53.79   94.21\n",
      "1   253802    v Bangladesh   16   910   136  75.83  101.78\n",
      "2   253802       v England   36  1340   122  41.87   88.15\n",
      "3   253802   v New Zealand   30  1528  154*  56.59   95.14\n",
      "4   253802      v Pakistan   16   678   183  52.15  100.29\n",
      "..     ...             ...  ...   ...   ...    ...     ...\n",
      "59   26421   v New Zealand    6    94    65  15.66  123.68\n",
      "60   26421      v Pakistan    6    45   31*  11.25   61.64\n",
      "61   26421  v South Africa    6    81   25*  20.25   83.50\n",
      "62   26421     v Sri Lanka   11   132    38  16.50   94.28\n",
      "63   26421   v West Indies    9   135    31  33.75   72.58\n",
      "\n",
      "[64 rows x 7 columns]\n",
      "      P_id    Venue  Inns    Runs    HS    Ave      SR\n",
      "0   253802     home   114    5857  166*  59.16   97.05\n",
      "1   253802     away   112    5336  160*  55.58   90.87\n",
      "2   253802  neutral    49    2244   183  60.64   91.85\n",
      "3    34102     home    85    4546   264  59.03  102.06\n",
      "4    34102     away   106    3546  171*  39.40   82.65\n",
      "5    34102  neutral    58    2418   140  52.56   87.60\n",
      "6   422108     home    28    1185   108  56.42   89.16\n",
      "7   422108     away    24     771   112  38.55   86.82\n",
      "8   422108  neutral    11     551  111*  61.22   82.48\n",
      "9    28235     home  48.0  1890.0   143  41.08   93.75\n",
      "10   28235     away  85.0  3141.0  132*  40.26   89.18\n",
      "11   28235  neutral  31.0  1762.0   137  58.73   92.83\n",
      "12   28081     home   113    4351  183*  53.71   91.60\n",
      "13   28081     away   124    4520  101*  50.78   83.98\n",
      "14   28081  neutral    60    1902  139*  44.23   87.60\n",
      "15  234675     home    51     955   61*  29.84   81.41\n",
      "16  234675     away    52    1163    87  36.34   87.70\n",
      "17  234675  neutral    26     565    77  29.73   83.08\n",
      "18  625371     home    25     763    83  34.68  109.31\n",
      "19  625371     away    24     633   92*  30.14  106.74\n",
      "20  625371  neutral    12     373    87  41.44  119.55\n",
      "21   26421     home    18     197   31*  14.07   75.76\n",
      "22   26421     away    31     356    65  17.80   95.44\n",
      "23   26421  neutral    14     154    38  17.11   85.55\n",
      "       P_id       Year Inns  Runs   HS    Ave      SR\n",
      "0    253802  year 2008    5   159   54  31.80   66.52\n",
      "1    253802  year 2009    8   325  107  54.16   84.41\n",
      "2    253802  year 2010   24   995  118  47.38   85.11\n",
      "3    253802  year 2011   34  1381  117  47.62   85.56\n",
      "4    253802  year 2012   17  1026  183  68.40   93.78\n",
      "..      ...        ...  ...   ...  ...    ...     ...\n",
      "96    26421  year 2015    8    48  16*  16.00   56.47\n",
      "97    26421  year 2016    1     1    1   1.00   50.00\n",
      "98    26421  year 2017    3    17  15*   8.50  106.25\n",
      "99    26421  year 2022    2    32  25*  32.00   86.48\n",
      "100   26421  year 2023    -     -    -      -       -\n",
      "\n",
      "[101 rows x 7 columns]\n"
     ]
    }
   ],
   "source": [
    "#253802: Virat Kohli (BAT)\n",
    "#34102: Rohit Gurunath Sharma (BAT)\n",
    "#422108: Kannaur Lokesh Rahul (BAT)\n",
    "#28235: Shikhar Dhawan (BAT)\n",
    "#28081 : Mahendra Singh Dhoni (BAT)\n",
    "#234675: Ravindrasinh Anirudhsinh Jadeja (ALL)\n",
    "#625371: Hardik Himanshu Pandya (ALL)\n",
    "#26421: Ravichandran Ashwin (ALL)\n",
    "\n",
    "player_ids=['253802', '34102', '422108', '28235', '28081', '234675', '625371', '26421']\n",
    "\n",
    "#Removes garbage files\n",
    "os.system(\"rm -f Csv/*_batsman.csv\")\n",
    "\n",
    "career_avg_batsman(player_ids)\n",
    "vs_country_batsman(player_ids)\n",
    "home_vs_away_batsman(player_ids)\n",
    "yearly_stats_batsman(player_ids)\n",
    "\n"
   ]
  }
 ],
 "metadata": {
  "anaconda-cloud": {},
  "kernelspec": {
   "display_name": "Python 3",
   "language": "python",
   "name": "python3"
  },
  "language_info": {
   "codemirror_mode": {
    "name": "ipython",
    "version": 3
   },
   "file_extension": ".py",
   "mimetype": "text/x-python",
   "name": "python",
   "nbconvert_exporter": "python",
   "pygments_lexer": "ipython3",
   "version": "3.11.4"
  }
 },
 "nbformat": 4,
 "nbformat_minor": 1
}
