{
 "cells": [
  {
   "cell_type": "code",
   "execution_count": 276,
   "metadata": {},
   "outputs": [],
   "source": [
    "import pandas as pd\n",
    "import ssl \n",
    "import numpy as np\n",
    "import os\n",
    "import requests\n",
    "import logging\n",
    "from bs4 import BeautifulSoup\n",
    "from pathlib import Path\n",
    "\n",
    "ssl._create_default_https_context = ssl._create_unverified_context\n",
    "#p_id='253802'"
   ]
  },
  {
   "cell_type": "markdown",
   "metadata": {},
   "source": [
    "Table: 'career_avg_batsman'"
   ]
  },
  {
   "cell_type": "code",
   "execution_count": 235,
   "metadata": {},
   "outputs": [],
   "source": [
    "def career_avg_batsman(p_id):\n",
    "    career_avg_batsman = pd.read_html(\"https://stats.espncricinfo.com/ci/engine/player/\"+p_id+\".html?class=2;template=results;type=batting\")[2]\n",
    "    career_avg_batsman=career_avg_batsman[[\"Span\",\"Inns\",\"Runs\",\"HS\",\"Ave\",\"SR\",\"100\",\"50\",\"0\",\"4s\",\"6s\"]]\n",
    "\n",
    "    career_avg_batsman.insert(0, \"P_id\", [p_id], True)\n",
    "\n",
    "    filepath = Path('Csv/Career_avg_batsman.csv')\n",
    "    hdr = False  if os.path.isfile(filepath) else True\n",
    "    career_avg_batsman.to_csv(filepath,  mode='a', index=False, header=hdr)  \n",
    "    career_avg_batsman\n"
   ]
  },
  {
   "cell_type": "markdown",
   "metadata": {},
   "source": [
    "Table: 'vs_country_batsman'"
   ]
  },
  {
   "cell_type": "code",
   "execution_count": 236,
   "metadata": {},
   "outputs": [],
   "source": [
    "def vs_country_batsman(p_id):\n",
    "    vs_country_batsman = pd.read_html(\"https://stats.espncricinfo.com/ci/engine/player/\"+p_id+\".html?class=2;template=results;type=batting\")[3]\n",
    "    vs_country_batsman=vs_country_batsman[[\"Grouping\",\"Inns\",\"Runs\",\"HS\",\"Ave\",\"SR\"]]\n",
    "\n",
    "    vs_country_batsman.rename(columns = {'Grouping':'Country'}, inplace = True)\n",
    "    vs_country_batsman.insert(0, \"P_id\", p_id, True)\n",
    "\n",
    "    countries=['v Pakistan', 'v Australia', 'v England', 'v New Zealand', 'v West Indies', 'v Sri Lanka', 'v Bangladesh', 'v South Africa']\n",
    "\n",
    "    select_vs_country_batsman = vs_country_batsman.loc[ vs_country_batsman['Country'].isin(countries)  ] \n",
    "\n",
    "    filepath = Path('Csv/Vs_country_batsman.csv')\n",
    "    hdr = False  if os.path.isfile(filepath) else True\n",
    "    select_vs_country_batsman.to_csv(filepath, mode='a', index=False, header=hdr)  \n",
    "    select_vs_country_batsman"
   ]
  },
  {
   "cell_type": "markdown",
   "metadata": {},
   "source": [
    "Table: 'home_vs_away_batsman'"
   ]
  },
  {
   "cell_type": "code",
   "execution_count": 237,
   "metadata": {},
   "outputs": [],
   "source": [
    "def home_vs_away_batsman(p_id):\n",
    "    home_vs_away_batsman = pd.read_html(\"https://stats.espncricinfo.com/ci/engine/player/\"+p_id+\".html?class=2;template=results;type=batting\")[3]\n",
    "    home_vs_away_batsman=home_vs_away_batsman[[\"Grouping\",\"Inns\",\"Runs\",\"HS\",\"Ave\",\"SR\"]]\n",
    "\n",
    "    home_vs_away_batsman.rename(columns = {'Grouping':'Venue'}, inplace = True)\n",
    "    home_vs_away_batsman.insert(0, \"P_id\", p_id, True)\n",
    "\n",
    "    venues=['home', 'away', 'neutral']\n",
    "\n",
    "    select_home_vs_away_batsman = home_vs_away_batsman.loc[ home_vs_away_batsman['Venue'].isin(venues)  ] \n",
    "\n",
    "    filepath = Path('Csv/Home_vs_away_batsman.csv')\n",
    "    hdr = False  if os.path.isfile(filepath) else True\n",
    "    select_home_vs_away_batsman.to_csv(filepath, mode='a', index=False, header=hdr)  \n",
    "    select_home_vs_away_batsman"
   ]
  },
  {
   "cell_type": "markdown",
   "metadata": {},
   "source": [
    "Table: 'yearly_stats_batsman'"
   ]
  },
  {
   "cell_type": "code",
   "execution_count": 238,
   "metadata": {},
   "outputs": [],
   "source": [
    "def yearly_stats_batsman(p_id):\n",
    "    yearly_stats_batsman = pd.read_html(\"https://stats.espncricinfo.com/ci/engine/player/\"+p_id+\".html?class=2;template=results;type=batting\")[3]\n",
    "    yearly_stats_batsman=yearly_stats_batsman[[\"Grouping\",\"Inns\",\"Runs\",\"HS\",\"Ave\",\"SR\"]]\n",
    "\n",
    "    yearly_stats_batsman.rename(columns = {'Grouping':'Year'}, inplace = True)\n",
    "    yearly_stats_batsman.insert(0, \"P_id\", p_id, True)\n",
    "\n",
    "    years=['home', 'away', 'neutral']\n",
    "\n",
    "    select_yearly_stats_batsman = yearly_stats_batsman.loc[ yearly_stats_batsman['Year'].str.startswith('year ', na=False)  ] \n",
    "\n",
    "    filepath = Path('Csv/Yearly_stats_batsman.csv')\n",
    "    hdr = False  if os.path.isfile(filepath) else True\n",
    "    select_yearly_stats_batsman.to_csv(filepath, mode='a', index=False, header=hdr)  \n",
    "    select_yearly_stats_batsman"
   ]
  },
  {
   "cell_type": "markdown",
   "metadata": {},
   "source": []
  },
  {
   "cell_type": "code",
   "execution_count": 288,
   "metadata": {},
   "outputs": [],
   "source": [
    "def player_overview(p_id):\n",
    "    # URL of the website to scrape\n",
    "    url = \"https://www.espncricinfo.com/cricketers/x-\"+p_id\n",
    "\n",
    "    # Send an HTTP GET request to the website\n",
    "    response = requests.get(url)\n",
    "\n",
    "    # Parse the HTML code using BeautifulSoup\n",
    "    soup = BeautifulSoup(response.content, 'html.parser')\n",
    "\n",
    "    # Extract the relevant information from the HTML code\n",
    "    class_grid='ds-grid lg:ds-grid-cols-3 ds-grid-cols-2 ds-gap-4 ds-mb-8'\n",
    "    div_p = soup.find('div', {'class': class_grid})\n",
    "    \n",
    "    my_dict = {}\n",
    "\n",
    "    class_para = 'ds-text-tight-m ds-font-regular ds-uppercase ds-text-typo-mid3'\n",
    "    for div in div_p.find_all('div'):\n",
    "        if ( div.find('p', {'class':class_para}) ) is None:\n",
    "            continue\n",
    "\n",
    "        key = div.find('p', {'class':class_para}).text\n",
    "        value = div.find('span').text\n",
    "        my_dict[key] = value\n",
    "\n",
    "    #Adds players' roll ids: (ALL for All rounder), (BAT for Batsman), (BOW for Bowler)\n",
    "    if 'All' in my_dict.get('Playing Role'):\n",
    "        my_dict['Roll_id'] = 'ALL'\n",
    "    elif 'Bowl' in my_dict.get('Playing Role'):\n",
    "        my_dict['Roll_id'] = 'BOW'\n",
    "    elif 'Bat' in my_dict.get('Playing Role'):\n",
    "        my_dict['Roll_id'] = 'BAT'\n",
    "    else:\n",
    "        log.error('No matching playing role is found')\n",
    "\n",
    "    player_overview = pd.DataFrame.from_dict([my_dict])\n",
    "    player_overview.insert(0, \"P_id\", p_id, True)\n",
    "\n",
    "    filepath = Path('Csv/player_overview.csv')\n",
    "    hdr = False  if os.path.isfile(filepath) else True\n",
    "    player_overview.to_csv(filepath, mode='a', index=False, header=hdr)\n",
    "    print(player_overview)"
   ]
  },
  {
   "cell_type": "markdown",
   "metadata": {},
   "source": [
    "#Main function below:"
   ]
  },
  {
   "cell_type": "code",
   "execution_count": 289,
   "metadata": {},
   "outputs": [
    {
     "name": "stdout",
     "output_type": "stream",
     "text": [
      "     P_id    Full Name                      Born       Age   Batting Style  \\\n",
      "0  253802  Virat Kohli  November 05, 1988, Delhi  34y 360d  Right hand Bat   \n",
      "\n",
      "      Bowling Style      Playing Role Roll_id  \n",
      "0  Right arm Medium  Top order Batter     BAT  \n",
      "    P_id              Full Name                                         Born  \\\n",
      "0  34102  Rohit Gurunath Sharma  April 30, 1987, Bansod, Nagpur, Maharashtra   \n",
      "\n",
      "        Age   Batting Style       Bowling Style      Playing Role Roll_id  \n",
      "0  36y 184d  Right hand Bat  Right arm Offbreak  Top order Batter     BAT  \n",
      "     P_id             Full Name                                  Born  \\\n",
      "0  422108  Kannaur Lokesh Rahul  April 18, 1992, Bangalore, Karnataka   \n",
      "\n",
      "        Age   Batting Style Fielding Position         Playing Role Roll_id  \n",
      "0  31y 196d  Right hand Bat      Wicketkeeper  Wicketkeeper Batter     BAT  \n",
      "     P_id                        Full Name  \\\n",
      "0  234675  Ravindrasinh Anirudhsinh Jadeja   \n",
      "\n",
      "                                          Born       Age  Batting Style  \\\n",
      "0  December 06, 1988, Navagam-Khed, Saurashtra  34y 329d  Left hand Bat   \n",
      "\n",
      "            Bowling Style Playing Role Roll_id  \n",
      "0  Slow Left arm Orthodox   Allrounder     ALL  \n",
      "     P_id               Full Name                                 Born  \\\n",
      "0  625371  Hardik Himanshu Pandya  October 11, 1993, Choryasi, Gujarat   \n",
      "\n",
      "       Age   Batting Style          Bowling Style Playing Role Roll_id  \n",
      "0  30y 20d  Right hand Bat  Right arm Medium fast   Allrounder     ALL  \n"
     ]
    }
   ],
   "source": [
    "#253802: Virat Kohli (BAT)\n",
    "#34102: Rohit Gurunath Sharma (BAT)\n",
    "#422108: Kannaur Lokesh Rahul (BAT)\n",
    "#234675: Ravindrasinh Anirudhsinh Jadeja (ALL)\n",
    "#625371: Hardik Himanshu Pandya (ALL)\n",
    "\n",
    "player_ids=['253802', '34102', '422108', '234675', '625371']\n",
    "#player_ids=['625383', '481896', '26421', '234675', '625371']\n",
    "\n",
    "#Removes garbage files\n",
    "os.system(\"rm -f Csv/*_batsman.csv\")\n",
    "\n",
    "for pid in player_ids:\n",
    "    career_avg_batsman(pid)\n",
    "    vs_country_batsman(pid)\n",
    "    home_vs_away_batsman(pid)\n",
    "    yearly_stats_batsman(pid)\n",
    "    player_overview(pid)\n",
    "    time.sleep(1)\n",
    "    "
   ]
  }
 ],
 "metadata": {
  "anaconda-cloud": {},
  "kernelspec": {
   "display_name": "Python 3",
   "language": "python",
   "name": "python3"
  },
  "language_info": {
   "codemirror_mode": {
    "name": "ipython",
    "version": 3
   },
   "file_extension": ".py",
   "mimetype": "text/x-python",
   "name": "python",
   "nbconvert_exporter": "python",
   "pygments_lexer": "ipython3",
   "version": "3.11.4"
  }
 },
 "nbformat": 4,
 "nbformat_minor": 1
}
