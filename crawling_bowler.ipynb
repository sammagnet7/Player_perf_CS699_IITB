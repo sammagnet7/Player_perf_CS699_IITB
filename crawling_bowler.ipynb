{
 "cells": [
  {
   "cell_type": "code",
   "execution_count": 13,
   "metadata": {},
   "outputs": [],
   "source": [
    "import pandas as pd\n",
    "import ssl \n",
    "import os\n",
    "import logging\n",
    "from pathlib import Path\n",
    "import time\n",
    "\n",
    "\n",
    "ssl._create_default_https_context = ssl._create_unverified_context"
   ]
  },
  {
   "cell_type": "markdown",
   "metadata": {},
   "source": [
    "Table: 'career_avg_bowler'"
   ]
  },
  {
   "cell_type": "code",
   "execution_count": 14,
   "metadata": {},
   "outputs": [],
   "source": [
    "def career_avg_bowler(player_ids):\n",
    "\n",
    "    career_avg_bowler_merged = pd.DataFrame()\n",
    "    \n",
    "    for p_id in player_ids:\n",
    "        \n",
    "        career_avg_bowler = pd.read_html(\"https://stats.espncricinfo.com/ci/engine/player/\"+p_id+\".html?class=2;template=results;type=bowling\")[2]\n",
    "        career_avg_bowler=career_avg_bowler[[\"Span\",\"Inns\",\"Overs\",\"Mdns\",\"Runs\",\"Wkts\",\"Ave\",\"Econ\",\"SR\"]]\n",
    "        career_avg_bowler.insert(0, \"P_id\", [p_id], True)\n",
    "\n",
    "        dismissal = pd.read_html(\"https://stats.espncricinfo.com/ci/engine/player/\"+p_id+\".html?class=2;template=results;type=bowling;view=dismissal_summary\")[-4]\n",
    "        dismissal_types=[\"caught\", \"bowled\", \"leg before wicket\"]\n",
    "        dismissal.set_index(\"Grouping\", inplace = True)\n",
    "\n",
    "        #avail_types=[]\n",
    "        #non_avail_types=[]\n",
    "        #for index, row in dismissal.iterrows():\n",
    "        #    if index in types:\n",
    "        #        avail_types.append(index)\n",
    "        #non_avail_types = np.setdiff1d(types, avail_types)\n",
    "\n",
    "        dismissal=dismissal.loc[dismissal_types,[\"Dis\"]]\n",
    "        dismissal_dict = dismissal.to_dict()\n",
    "        dismissal = pd.DataFrame.from_dict(dismissal_dict.values())\n",
    "\n",
    "        career_avg_bowler = pd.concat([career_avg_bowler, dismissal], axis=1)\n",
    "\n",
    "        #career_avg_bowler[non_avail_types] = [None] \n",
    "        career_avg_bowler_merged = pd.concat([career_avg_bowler_merged, career_avg_bowler], ignore_index=True)\n",
    "        time.sleep(0.1)\n",
    "\n",
    "    filepath = Path('Csv/Career_avg_bowler.csv')\n",
    "    career_avg_bowler_merged.to_csv(filepath, index_label=\"row_id\")  \n",
    "    print(career_avg_bowler_merged)\n"
   ]
  },
  {
   "cell_type": "markdown",
   "metadata": {},
   "source": [
    "Table: 'vs_country_bowler'"
   ]
  },
  {
   "cell_type": "code",
   "execution_count": 15,
   "metadata": {},
   "outputs": [],
   "source": [
    "def vs_country_bowler(player_ids):\n",
    "\n",
    "    vs_country_bowler_merged = pd.DataFrame()\n",
    " \n",
    "    for p_id in player_ids:\n",
    "        \n",
    "        vs_country_bowler = pd.read_html(\"https://stats.espncricinfo.com/ci/engine/player/\"+p_id+\".html?class=2;template=results;type=bowling\")[3]\n",
    "        vs_country_bowler=vs_country_bowler[['Grouping','Inns', 'Overs','Mdns','Runs','Wkts','Ave','Econ','SR']]\n",
    "\n",
    "        vs_country_bowler.rename(columns = {'Grouping':'Country'}, inplace = True)\n",
    "        vs_country_bowler.insert(0, \"P_id\", p_id, True)\n",
    "\n",
    "        countries=['v Pakistan', 'v Australia', 'v England', 'v New Zealand', 'v West Indies', 'v Sri Lanka', 'v Bangladesh', 'v South Africa']\n",
    "\n",
    "        vs_country_bowler = vs_country_bowler.loc[ vs_country_bowler['Country'].isin(countries)  ] \n",
    "        vs_country_bowler_merged = pd.concat([vs_country_bowler_merged, vs_country_bowler], ignore_index=True)\n",
    "        time.sleep(0.1)\n",
    "\n",
    "\n",
    "    filepath = Path('Csv/Vs_country_bowler.csv')\n",
    "    vs_country_bowler_merged.to_csv(filepath, index_label=\"row_id\")  \n",
    "    print(vs_country_bowler_merged)"
   ]
  },
  {
   "cell_type": "markdown",
   "metadata": {},
   "source": [
    "Table: 'home_vs_away_bowler'"
   ]
  },
  {
   "cell_type": "code",
   "execution_count": 16,
   "metadata": {},
   "outputs": [],
   "source": [
    "def home_vs_away_bowler(player_ids):\n",
    "\n",
    "    home_vs_away_bowler_merged = pd.DataFrame()\n",
    " \n",
    "    for p_id in player_ids:\n",
    "\n",
    "        home_vs_away_bowler = pd.read_html(\"https://stats.espncricinfo.com/ci/engine/player/\"+p_id+\".html?class=2;template=results;type=bowling\")[3]\n",
    "        home_vs_away_bowler=home_vs_away_bowler[['Grouping','Inns', 'Overs','Mdns','Runs','Wkts','Ave','Econ','SR']]\n",
    "\n",
    "        home_vs_away_bowler.rename(columns = {'Grouping':'Venue'}, inplace = True)\n",
    "        home_vs_away_bowler.insert(0, \"P_id\", p_id, True)\n",
    "\n",
    "        venues=['home', 'away', 'neutral']\n",
    "\n",
    "        home_vs_away_bowler = home_vs_away_bowler.loc[ home_vs_away_bowler['Venue'].isin(venues)  ] \n",
    "        home_vs_away_bowler_merged = pd.concat([home_vs_away_bowler_merged, home_vs_away_bowler], ignore_index=True)\n",
    "        time.sleep(0.1)\n",
    "\n",
    "    filepath = Path('Csv/Home_vs_away_bowler.csv')\n",
    "    home_vs_away_bowler_merged.to_csv(filepath, index_label=\"row_id\")  \n",
    "    print(home_vs_away_bowler_merged)"
   ]
  },
  {
   "cell_type": "markdown",
   "metadata": {},
   "source": [
    "Table: 'yearly_stats_bowler'"
   ]
  },
  {
   "cell_type": "code",
   "execution_count": 17,
   "metadata": {},
   "outputs": [],
   "source": [
    "def yearly_stats_bowler(player_ids):\n",
    "\n",
    "    yearly_stats_bowler_merged = pd.DataFrame()\n",
    "\n",
    "    for p_id in player_ids:\n",
    "       \n",
    "        yearly_stats_bowler = pd.read_html(\"https://stats.espncricinfo.com/ci/engine/player/\"+p_id+\".html?class=2;template=results;type=bowling\")[3]\n",
    "        yearly_stats_bowler=yearly_stats_bowler[['Grouping','Inns', 'Overs','Mdns','Runs','Wkts','Ave','Econ','SR']]\n",
    "\n",
    "        yearly_stats_bowler.rename(columns = {'Grouping':'Year'}, inplace = True)\n",
    "        yearly_stats_bowler.insert(0, \"P_id\", p_id, True)\n",
    "\n",
    "        years=['home', 'away', 'neutral']\n",
    "\n",
    "        yearly_stats_bowler = yearly_stats_bowler.loc[ yearly_stats_bowler['Year'].str.startswith('year ', na=False)  ] \n",
    "        yearly_stats_bowler_merged = pd.concat([yearly_stats_bowler_merged, yearly_stats_bowler], ignore_index=True)\n",
    "        time.sleep(0.1)\n",
    "\n",
    "\n",
    "    filepath = Path('Csv/Yearly_stats_bowler.csv')\n",
    "    yearly_stats_bowler_merged.to_csv(filepath, index_label=\"row_id\")  \n",
    "    print(yearly_stats_bowler_merged)"
   ]
  },
  {
   "cell_type": "markdown",
   "metadata": {},
   "source": [
    "#Main function below:"
   ]
  },
  {
   "cell_type": "code",
   "execution_count": 18,
   "metadata": {},
   "outputs": [
    {
     "name": "stdout",
     "output_type": "stream",
     "text": [
      "     P_id       Span  Inns   Overs  Mdns  Runs  Wkts    Ave  Econ    SR  \\\n",
      "0  234675  2009-2023   184  1586.2    55  7744   212  36.52  4.88  44.8   \n",
      "1  625371  2016-2023    80   533.1    15  2960    84  35.23  5.55  38.0   \n",
      "2   26421  2010-2023   114  1050.3    37  5180   156  33.20  4.93  40.4   \n",
      "3   27223  2014-2015    12    81.4     4   439    20  21.95  5.37  24.5   \n",
      "4  625383  2016-2023    83   725.2    52  3347   143  23.40  4.61  30.4   \n",
      "5  481896  2013-2023    95   799.0    49  4437   180  24.65  5.55  26.6   \n",
      "6  326016  2012-2022   120   974.3    68  4951   141  35.11  5.08  41.4   \n",
      "7  376116  2010-2018    73   593.0    23  3565   106  33.63  6.01  33.5   \n",
      "\n",
      "   caught  bowled  leg before wicket  \n",
      "0   100.0    54.0               36.0  \n",
      "1    71.0     8.0                5.0  \n",
      "2    84.0    29.0               25.0  \n",
      "3    15.0     4.0                1.0  \n",
      "4    88.0    43.0               12.0  \n",
      "5   110.0    60.0               10.0  \n",
      "6   105.0    26.0               10.0  \n",
      "7    76.0    20.0               10.0  \n",
      "      P_id         Country Inns  Overs Mdns  Runs Wkts    Ave  Econ    SR\n",
      "0   234675     v Australia   40  368.3    6  1942   37  52.48  5.27  59.7\n",
      "1   234675    v Bangladesh   13  108.0    2   481   14  34.35  4.45  46.2\n",
      "2   234675       v England   25  199.3    4   952   39  24.41  4.77  30.6\n",
      "3   234675   v New Zealand   13  115.0    2   591    8  73.87  5.13  86.2\n",
      "4   234675      v Pakistan   11   97.5    5   474   12  39.50  4.84  48.9\n",
      "..     ...             ...  ...    ...  ...   ...  ...    ...   ...   ...\n",
      "57  376116   v New Zealand    5   41.0    1   236    8  29.50  5.75  30.7\n",
      "58  376116      v Pakistan    3   24.2    1   109    5  21.80  4.47  29.2\n",
      "59  376116  v South Africa    6   49.0    0   334    6  55.66  6.81  49.0\n",
      "60  376116     v Sri Lanka   14  112.4    6   698   15  46.53  6.19  45.0\n",
      "61  376116   v West Indies   15  134.4    8   702   26  27.00  5.21  31.0\n",
      "\n",
      "[62 rows x 10 columns]\n",
      "      P_id    Venue Inns  Overs Mdns  Runs Wkts    Ave  Econ    SR\n",
      "0   234675     home   72  663.1   24  3201  103  31.07  4.82  38.6\n",
      "1   234675     away   66  535.5   18  2682   52  51.57  5.00  61.8\n",
      "2   234675  neutral   46  387.2   13  1861   57  32.64  4.80  40.7\n",
      "3   625371     home   31  195.3    5  1161   35  33.17  5.93  33.5\n",
      "4   625371     away   33  211.5    5  1104   33  33.45  5.21  38.5\n",
      "5   625371  neutral   16  125.5    5   695   16  43.43  5.52  47.1\n",
      "6    26421     home   45  422.4    9  2129   70  30.41  5.03  36.2\n",
      "7    26421     away   42  371.1   14  1875   42  44.64  5.05  53.0\n",
      "8    26421  neutral   27  256.4   14  1176   44  26.72  4.58  35.0\n",
      "9    27223     home    3   24.0    1   146    3  48.66  6.08  48.0\n",
      "10   27223     away    6   38.4    3   204   13  15.69  5.27  17.8\n",
      "11   27223  neutral    3   19.0    0    89    4  22.25  4.68  28.5\n",
      "12  625383     home   36  319.3   20  1547   58  26.67  4.84  33.0\n",
      "13  625383     away   29  250.0   18  1117   55  20.30  4.46  27.2\n",
      "14  625383  neutral   18  155.5   14   683   30  22.76  4.38  31.1\n",
      "15  481896     home   39  322.0   25  1881   70  26.87  5.84  27.6\n",
      "16  481896     away   39  335.3   15  1843   75  24.57  5.49  26.8\n",
      "17  481896  neutral   17  141.3    9   713   35  20.37  5.03  24.2\n",
      "18  326016     home   44  382.2   27  2031   50  40.62  5.31  45.8\n",
      "19  326016     away   49  375.4   23  1965   53  37.07  5.23  42.5\n",
      "20  326016  neutral   27  216.3   18   955   38  25.13  4.41  34.1\n",
      "21  376116     home   23  197.4    6  1189   40  29.72  6.01  29.6\n",
      "22  376116     away   30  235.2    8  1482   43  34.46  6.29  32.8\n",
      "23  376116  neutral   20  160.0    9   894   23  38.86  5.58  41.7\n",
      "      P_id       Year Inns  Overs Mdns  Runs Wkts    Ave  Econ     SR\n",
      "0   234675  year 2009   13   97.4    4   506   10  50.60  5.18   58.6\n",
      "1   234675  year 2010   20  158.0    7   739   19  38.89  4.67   49.8\n",
      "2   234675  year 2011   13  112.0    5   555   24  23.12  4.95   28.0\n",
      "3   234675  year 2012    9   71.4    0   390    4  97.50  5.44  107.5\n",
      "4   234675  year 2013   34  303.3   22  1321   52  25.40  4.35   35.0\n",
      "..     ...        ...  ...    ...  ...   ...  ...    ...   ...    ...\n",
      "64  376116  year 2014    9   71.2    3   381   17  22.41  5.34   25.1\n",
      "65  376116  year 2015   14  110.2    6   632   25  25.28  5.72   26.4\n",
      "66  376116  year 2016   10   88.5    2   581   15  38.73  6.54   35.5\n",
      "67  376116  year 2017    8   67.2    3   388   15  25.86  5.76   26.9\n",
      "68  376116  year 2018    4   39.5    0   275    4  68.75  6.90   59.7\n",
      "\n",
      "[69 rows x 10 columns]\n"
     ]
    }
   ],
   "source": [
    "#234675: Ravindrasinh Anirudhsinh Jadeja (ALL)\n",
    "#625371: Hardik Himanshu Pandya (ALL)\n",
    "#26421: Ravichandran Ashwin (ALL)\n",
    "#625383: Jasprit Jasbirsingh Bumrah (BOW)\n",
    "#481896: Mohammed Shami Ahmed (BOW)\n",
    "#326016: Bhuvneshwar Kumar Singh (BOW)\n",
    "#376116: Umeshkumar Tilak Yadav (BOW)\n",
    "\n",
    "player_ids=['234675', '625371', '26421', '625383', '481896', '326016', '376116']\n",
    "\n",
    "os.system(\"rm -f Csv/*_bowler.csv\")\n",
    "\n",
    "career_avg_bowler(player_ids)\n",
    "vs_country_bowler(player_ids)\n",
    "home_vs_away_bowler(player_ids)\n",
    "yearly_stats_bowler(player_ids)\n"
   ]
  }
 ],
 "metadata": {
  "anaconda-cloud": {},
  "kernelspec": {
   "display_name": "Python 3",
   "language": "python",
   "name": "python3"
  },
  "language_info": {
   "codemirror_mode": {
    "name": "ipython",
    "version": 3
   },
   "file_extension": ".py",
   "mimetype": "text/x-python",
   "name": "python",
   "nbconvert_exporter": "python",
   "pygments_lexer": "ipython3",
   "version": "3.11.4"
  }
 },
 "nbformat": 4,
 "nbformat_minor": 1
}
